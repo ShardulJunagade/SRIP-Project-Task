{
 "cells": [
  {
   "cell_type": "markdown",
   "metadata": {},
   "source": [
    "# Building a Solar Panel Detector\n",
    "\n",
    "Author: Shardul Junagade\n",
    "\n",
    "Date: 27 February 2026\n",
    "\n",
    "In this notebook, we will build a solar panel detector that can detect solar panels in aerial images."
   ]
  },
  {
   "cell_type": "markdown",
   "metadata": {},
   "source": [
    "### Importing Libraries"
   ]
  },
  {
   "cell_type": "code",
   "execution_count": 1,
   "metadata": {},
   "outputs": [
    {
     "name": "stdout",
     "output_type": "stream",
     "text": [
      "Using device: cuda\n"
     ]
    }
   ],
   "source": [
    "import torch\n",
    "from ultralytics import YOLO\n",
    "import supervision as sv\n",
    "import shapely.geometry as sg\n",
    "import numpy as np\n",
    "import pandas as pd\n",
    "import matplotlib.pyplot as plt\n",
    "import os\n",
    "import shutil\n",
    "\n",
    "# Retina display\n",
    "%config InlineBackend.figure_format = 'retina'\n",
    "%matplotlib inline\n",
    "\n",
    "def set_seed(seed=42):\n",
    "    np.random.seed(seed)\n",
    "    torch.manual_seed(seed)\n",
    "    if torch.cuda.is_available():\n",
    "        torch.cuda.manual_seed_all(seed)\n",
    "set_seed()\n",
    "\n",
    "device = torch.device('cuda' if torch.cuda.is_available() else 'cpu')\n",
    "print('Using device:', device)"
   ]
  },
  {
   "cell_type": "markdown",
   "metadata": {},
   "source": [
    "## Data Exploration and Understanding\n",
    "\n",
    "We will use the [Solar Panel Object Labels dataset from Figshare](https://figshare.com/articles/dataset/Solar_Panel_Object_Labels/22081091). This dataset contains high-resolution aerial images with labeled solar panels. We will use the 31 cm native resolution images of sizes 416x416 pixels for our analysis.\n",
    "\n",
    "The dataset files follow a specific naming structure: `solarpanels_native_<image_number>__x0_<x_coordinate>_y0_<y_coordinate>_dxdy_<size>`.\n",
    "\n",
    "For example, in the file `solarpanels_native_1__x0_0_y0_6845_dxdy_416.txt`:\n",
    "\n",
    "- `solarpanels_native`: Indicates that the file contains solar panel data in native resolution.\n",
    "- `<image_number>`: The number of the image in the dataset.\n",
    "- `x0_<x_coordinate>`: The x-coordinate of the top-left corner of the image.\n",
    "- `y0_<y_coordinate>`: The y-coordinate of the top-left corner of the image.\n",
    "- `dxdy_<size>`: The size of the image in pixels (both width and height).\n",
    "\n",
    "Each line in the file represents a detected solar panel with the following format: `category x_center y_center width height`, where:\n",
    "\n",
    "- `category`: The category label (0 for solar panels).\n",
    "- `x_center`: The x-coordinate of the center of the bounding box (normalized).\n",
    "- `y_center`: The y-coordinate of the center of the bounding box (normalized).\n",
    "- `width`: The width of the bounding box (normalized).\n",
    "- `height`: The height of the bounding box (normalized).\n"
   ]
  },
  {
   "cell_type": "code",
   "execution_count": 2,
   "metadata": {},
   "outputs": [],
   "source": [
    "image_dir = 'data/images_native/'\n",
    "label_dir = 'data/labels_native/'\n",
    "image_size = 416\n",
    "meters_per_pixel = 0.31  # meters per pixel"
   ]
  },
  {
   "cell_type": "code",
   "execution_count": 3,
   "metadata": {},
   "outputs": [
    {
     "name": "stdout",
     "output_type": "stream",
     "text": [
      "Number of images: 2542\n",
      "Number of labels: 2542\n"
     ]
    }
   ],
   "source": [
    "image_names = sorted([image_name for image_name in os.listdir(image_dir) if image_name.endswith('.tif')])\n",
    "label_names = sorted([label_name for label_name in os.listdir(label_dir) if label_name.endswith('.txt')])\n",
    "\n",
    "print('Number of images:', len(image_names))\n",
    "print('Number of labels:', len(label_names))"
   ]
  },
  {
   "cell_type": "markdown",
   "metadata": {},
   "source": [
    "The number of images and the number of labels is not the same. So, we can remove the images that do not have corresponding labels and remove the labels that do not have corresponding images."
   ]
  },
  {
   "cell_type": "code",
   "execution_count": 4,
   "metadata": {},
   "outputs": [
    {
     "name": "stdout",
     "output_type": "stream",
     "text": [
      "Number of images: 2542\n",
      "Number of labels: 2542\n"
     ]
    }
   ],
   "source": [
    "# delete the images that do not have corresponding labels\n",
    "for image_name in image_names:\n",
    "    if image_name.replace('.tif', '.txt') not in label_names:\n",
    "        os.remove(image_dir + image_name)\n",
    "\n",
    "# delete the labels that do not have corresponding images\n",
    "for label_name in label_names:\n",
    "    if label_name.replace('.txt', '.tif') not in image_names:\n",
    "        os.remove(label_dir + label_name)\n",
    "\n",
    "image_names = sorted([image_name for image_name in os.listdir(image_dir) if image_name.endswith('.tif')])\n",
    "label_names = sorted([label_name for label_name in os.listdir(label_dir) if label_name.endswith('.txt')])\n",
    "\n",
    "print('Number of images:', len(image_names))\n",
    "print('Number of labels:', len(label_names))"
   ]
  },
  {
   "cell_type": "markdown",
   "metadata": {},
   "source": [
    "### Dataset Statistics"
   ]
  },
  {
   "cell_type": "code",
   "execution_count": 5,
   "metadata": {},
   "outputs": [
    {
     "name": "stdout",
     "output_type": "stream",
     "text": [
      "Total instances: 29625\n",
      "\n",
      "Number of unique classes: 3\n",
      "\n",
      "Class-wise distribution:\n",
      "    Class 0: 29267\n",
      "    Class 1: 130\n",
      "    Class 2: 228\n"
     ]
    }
   ],
   "source": [
    "total_instances = 0\n",
    "class_count = {}\n",
    "\n",
    "for label_name in label_names:\n",
    "    label_path = os.path.join(label_dir, label_name)\n",
    "\n",
    "    with open(label_path, 'r') as f:\n",
    "        lines = f.readlines()\n",
    "        total_instances += len(lines)\n",
    "        for line in lines:\n",
    "            class_name = line.split()[0]\n",
    "            class_count[class_name] = class_count.get(class_name, 0) + 1\n",
    "\n",
    "class_count = dict(sorted(class_count.items()))\n",
    "\n",
    "print('Total instances:', total_instances)\n",
    "print('\\nNumber of unique classes:', len(class_count))\n",
    "print('\\nClass-wise distribution:')\n",
    "for class_name, count in class_count.items():\n",
    "    print(f'    Class {class_name}: {count}')"
   ]
  },
  {
   "cell_type": "code",
   "execution_count": 6,
   "metadata": {},
   "outputs": [
    {
     "name": "stdout",
     "output_type": "stream",
     "text": [
      "Value counts of labels per image:\n",
      "81 images have 1 labels.\n",
      "167 images have 2 labels.\n",
      "221 images have 3 labels.\n",
      "218 images have 4 labels.\n",
      "217 images have 5 labels.\n",
      "189 images have 6 labels.\n",
      "170 images have 7 labels.\n",
      "184 images have 8 labels.\n",
      "169 images have 9 labels.\n",
      "121 images have 10 labels.\n",
      "97 images have 11 labels.\n",
      "84 images have 12 labels.\n",
      "69 images have 13 labels.\n",
      "49 images have 14 labels.\n",
      "46 images have 15 labels.\n",
      "41 images have 16 labels.\n",
      "36 images have 17 labels.\n",
      "25 images have 18 labels.\n",
      "29 images have 19 labels.\n",
      "14 images have 20 labels.\n",
      "4 images have 21 labels.\n",
      "1 images have 22 labels.\n",
      "4 images have 23 labels.\n",
      "2 images have 24 labels.\n",
      "4 images have 25 labels.\n",
      "3 images have 26 labels.\n",
      "5 images have 27 labels.\n",
      "5 images have 28 labels.\n",
      "15 images have 29 labels.\n",
      "20 images have 30 labels.\n",
      "8 images have 31 labels.\n",
      "7 images have 32 labels.\n",
      "13 images have 33 labels.\n",
      "19 images have 34 labels.\n",
      "10 images have 35 labels.\n",
      "6 images have 36 labels.\n",
      "17 images have 37 labels.\n",
      "13 images have 38 labels.\n",
      "6 images have 39 labels.\n",
      "9 images have 40 labels.\n",
      "10 images have 41 labels.\n",
      "12 images have 42 labels.\n",
      "11 images have 43 labels.\n",
      "4 images have 44 labels.\n",
      "2 images have 45 labels.\n",
      "5 images have 46 labels.\n",
      "9 images have 47 labels.\n",
      "3 images have 48 labels.\n",
      "5 images have 49 labels.\n",
      "6 images have 50 labels.\n",
      "9 images have 51 labels.\n",
      "16 images have 52 labels.\n",
      "4 images have 53 labels.\n",
      "6 images have 54 labels.\n",
      "1 images have 55 labels.\n",
      "1 images have 56 labels.\n",
      "3 images have 58 labels.\n",
      "2 images have 59 labels.\n",
      "2 images have 60 labels.\n",
      "1 images have 61 labels.\n",
      "6 images have 62 labels.\n",
      "3 images have 63 labels.\n",
      "1 images have 64 labels.\n",
      "3 images have 65 labels.\n",
      "4 images have 66 labels.\n",
      "1 images have 67 labels.\n",
      "1 images have 71 labels.\n",
      "1 images have 72 labels.\n",
      "1 images have 73 labels.\n",
      "5 images have 74 labels.\n",
      "1 images have 75 labels.\n",
      "2 images have 76 labels.\n",
      "2 images have 77 labels.\n",
      "1 images have 78 labels.\n"
     ]
    }
   ],
   "source": [
    "# Calculate number of images having a particular number of labels\n",
    "label_distribution = {}\n",
    "for label_name in label_names:\n",
    "    label_path = os.path.join(label_dir, label_name)\n",
    "    with open(label_path, 'r') as f:\n",
    "        lines = f.readlines()\n",
    "        num_labels = len(lines)\n",
    "        label_distribution[num_labels] = label_distribution.get(num_labels, 0) + 1\n",
    "\n",
    "label_distribution = dict(sorted(label_distribution.items()))\n",
    "print('Value counts of labels per image:')\n",
    "for num_labels, count in label_distribution.items():\n",
    "    print(f'{count} images have {num_labels} labels.')"
   ]
  },
  {
   "cell_type": "markdown",
   "metadata": {},
   "source": [
    "### Area of Solar Panels\n",
    "\n",
    "We can calculate the area of the solar panels (in square meters) as follows:\n",
    "\n",
    "1. **Denormalize x-width and y-width:**\n",
    "    - Multiply by the chip size:\n",
    "      - Native resolution (31 cm): $416 \\times 416$\n",
    "      - HD resolution (15.5 cm): $832 \\times 832$\n",
    "\n",
    "2. **Convert to real-world meters:**\n",
    "    - Pixel size = 0.31 meters per pixel\n",
    "    - Real width & height in meters:\n",
    "      $$\n",
    "      \\text{real\\_width} = x\\_width \\times 416 \\times 0.31\n",
    "      $$\n",
    "      $$\n",
    "      \\text{real\\_height} = y\\_width \\times 416 \\times 0.31\n",
    "      $$\n",
    "\n",
    "3. **Compute area:**\n",
    "    $$\n",
    "    \\text{area} = \\text{real\\_width} \\times \\text{real\\_height}\n",
    "    $$\n",
    "\n"
   ]
  },
  {
   "cell_type": "code",
   "execution_count": 7,
   "metadata": {},
   "outputs": [
    {
     "name": "stdout",
     "output_type": "stream",
     "text": [
      "Mean area of solar panels: 191.52 m^2\n",
      "Standard deviation of area of solar panels: 630.70 m^2\n"
     ]
    },
    {
     "data": {
      "image/png": "[encoded data removed]",
      "text/plain": [
       "<Figure size 800x600 with 1 Axes>"
      ]
     },
     "metadata": {
      "image/png": {
       "height": 546,
       "width": 713
      }
     },
     "output_type": "display_data"
    }
   ],
   "source": [
    "areas = []\n",
    "for label_name in label_names:\n",
    "    label_path = os.path.join(label_dir, label_name)\n",
    "    with open(label_path, 'r') as f:\n",
    "        lines = f.readlines()\n",
    "        for line in lines:\n",
    "            class_name, x_center, y_center, width, height = map(float, line.split())\n",
    "            # print(class_name, x_center, y_center, width, height)\n",
    "            real_width = width * image_size * meters_per_pixel\n",
    "            real_height = height * image_size * meters_per_pixel\n",
    "            area = real_width * real_height\n",
    "            areas.append(area)\n",
    "\n",
    "areas = np.array(areas)\n",
    "mean_area = np.mean(areas)\n",
    "std_area = np.std(areas)\n",
    "print(f'Mean area of solar panels: {mean_area:.2f} m^2')\n",
    "print(f'Standard deviation of area of solar panels: {std_area:.2f} m^2')\n",
    "\n",
    "plt.figure(figsize=(8, 6))\n",
    "plt.hist(areas, bins=50, color='blue', edgecolor='black', alpha=0.7)\n",
    "plt.xlabel('Area (m^2)')\n",
    "plt.ylabel('Frequency')\n",
    "plt.title('Histogram of areas of solar panels')\n",
    "plt.grid(axis='y', alpha=0.75)\n",
    "plt.show()"
   ]
  },
  {
   "cell_type": "markdown",
   "metadata": {},
   "source": [
    "From the above histogram, we can observe the following:\n",
    "\n",
    "- The majority of the solar panels have areas concentrated around the lower end of the scale.\n",
    "- There are fewer instances of solar panels with larger areas.\n",
    "- The distribution appears to be right-skewed, indicating that most solar panels are relatively small in size, with a few larger ones."
   ]
  },
  {
   "cell_type": "markdown",
   "metadata": {},
   "source": [
    "## Implementing the Fundamental Functions"
   ]
  },
  {
   "cell_type": "markdown",
   "metadata": {},
   "source": [
    "### Intersection over Union (IoU)\n",
    "\n",
    "Intersection over Union (IoU) is a metric used to evaluate the accuracy of an object detector on a particular dataset. It measures the overlap between two bounding boxes: the predicted bounding box and the ground truth bounding box.\n",
    "\n",
    "The IoU is calculated as follows:\n",
    "\n",
    "1. **Intersection**: The area of overlap between the predicted bounding box and the ground truth bounding box.\n",
    "2. **Union**: The total area covered by both the predicted bounding box and the ground truth bounding box.\n",
    "\n",
    "The IoU is then computed as the ratio of the intersection area to the union area:\n",
    "\n",
    "$$\n",
    "\\text{IoU} = \\frac{\\text{Area of Intersection}}{\\text{Area of Union}}\n",
    "$$\n",
    "\n",
    "The IoU value ranges from 0 to 1, where:\n",
    "- 0 indicates no overlap between the bounding boxes.\n",
    "- 1 indicates a perfect overlap between the bounding boxes."
   ]
  },
  {
   "cell_type": "markdown",
   "metadata": {},
   "source": [
    "**Usage of Shapely Library:**\n",
    "\n",
    "Shapely's `Polygon` class is used to represent bounding boxes as geometric shapes, defined by their corner coordinates. The intersection area between two polygons is computed using the `.intersection()` method, which finds the overlapping region of the two bounding boxes. The union area is determined using the `.union()` method, which combines both polygons into a single shape.\n"
   ]
  },
  {
   "cell_type": "code",
   "execution_count": 8,
   "metadata": {},
   "outputs": [],
   "source": [
    "# convert yolo format to x_min, y_min, x_max, y_max format\n",
    "def yolo_to_xyxy(yolo_bbox, image_size):\n",
    "    if len(yolo_bbox) == 5:\n",
    "        class_id, x_center, y_center, width, height = yolo_bbox\n",
    "    else:\n",
    "        x_center, y_center, width, height = yolo_bbox\n",
    "    x_min = (x_center - width / 2) * image_size\n",
    "    y_min = (y_center - height / 2) * image_size\n",
    "    x_max = (x_center + width / 2) * image_size\n",
    "    y_max = (y_center + height / 2) * image_size\n",
    "    return x_min, y_min, x_max, y_max\n",
    "\n",
    "# calculate iou using shapely\n",
    "def iou_shapely(yolo_bbox1, yolo_bbox2, image_size):\n",
    "    x_min1, y_min1, x_max1, y_max1 = yolo_to_xyxy(yolo_bbox1, image_size)\n",
    "    x_min2, y_min2, x_max2, y_max2 = yolo_to_xyxy(yolo_bbox2, image_size)\n",
    "\n",
    "    polygon1 = sg.Polygon([(x_min1, y_min1), (x_max1, y_min1), (x_max1, y_max1), (x_min1, y_max1)])\n",
    "    polygon2 = sg.Polygon([(x_min2, y_min2), (x_max2, y_min2), (x_max2, y_max2), (x_min2, y_max2)])\n",
    "\n",
    "    intersection_area = polygon1.intersection(polygon2).area\n",
    "    union_area = polygon1.union(polygon2).area\n",
    "\n",
    "    if union_area == 0.0:\n",
    "        iou = 0.0\n",
    "    else:\n",
    "        iou = intersection_area / union_area\n",
    "    return iou\n",
    "\n",
    "# calculate iou using supervision\n",
    "def iou_supervision(yolo_bbox1, yolo_bbox2, image_size):\n",
    "    box1 = np.array([yolo_to_xyxy(yolo_bbox1, image_size)])\n",
    "    box2 = np.array([yolo_to_xyxy(yolo_bbox2, image_size)])\n",
    "    iou_matrix = sv.box_iou_batch(box1, box2)\n",
    "    return iou_matrix[0, 0]\n"
   ]
  },
  {
   "cell_type": "code",
   "execution_count": 9,
   "metadata": {},
   "outputs": [
    {
     "name": "stdout",
     "output_type": "stream",
     "text": [
      "IoU computed using shapely: 0.2857\n",
      "IoU computed using supervision: 0.2857\n"
     ]
    }
   ],
   "source": [
    "# Example usage on YOLO bounding boxes (class_id, x_center, y_center, width, height) \n",
    "yolo_bbox1 = [0, 0.1, 0.1, 0.6, 0.6]\n",
    "yolo_bbox2 = [0, 0.3, 0.3, 0.6, 0.6]\n",
    "\n",
    "iou1 = iou_shapely(yolo_bbox1, yolo_bbox2, image_size)\n",
    "iou2 = iou_supervision(yolo_bbox1, yolo_bbox2, image_size)\n",
    "\n",
    "print(f'IoU computed using shapely: {iou1:.4f}')\n",
    "print(f'IoU computed using supervision: {iou2:.4f}')"
   ]
  },
  {
   "cell_type": "markdown",
   "metadata": {},
   "source": [
    "### Average Precision (AP)\n",
    "\n",
    "Average Precision (AP) is a metric used to evaluate the performance of object detection models. It summarizes the precision-recall curve into a single value, representing the average of precision values at different recall levels.\n",
    "- **Precision**: The ratio of true positive detections to the total number of positive detections (true positives + false positives).\n",
    "  \n",
    "  $$\n",
    "  \\text{Precision} = \\frac{\\text{True Positives}}{\\text{True Positives} + \\text{False Positives}}\n",
    "  $$\n",
    "\n",
    "- **Recall**: The ratio of true positive detections to the total number of actual positives (true positives + false negatives).\n",
    "  \n",
    "  $$\n",
    "  \\text{Recall} = \\frac{\\text{True Positives}}{\\text{True Positives} + \\text{False Negatives}}\n",
    "  $$\n",
    "\n",
    "The precision-recall curve is plotted with precision on the y-axis and recall on the x-axis. The Average Precision (AP) is calculated as the area under the precision-recall curve.\n",
    "\n",
    "There are different methods to compute AP:\n",
    "1. **Pascal VOC 11-point interpolation**: Precision is sampled at 11 recall levels (0.0, 0.1, ..., 1.0), and the average of these precision values is taken.\n",
    "2. **COCO 101-point interpolation**: Precision is sampled at 101 recall levels (0.0, 0.01, ..., 1.0), and the average of these precision values is taken.\n",
    "3. **Area under Precision-Recall Curve (PRC)**: The area under the precision-recall curve is computed using numerical integration methods.\n",
    "\n",
    "\n"
   ]
  },
  {
   "cell_type": "code",
   "execution_count": 10,
   "metadata": {},
   "outputs": [],
   "source": [
    "from sklearn.metrics import auc\n",
    "\n",
    "def compute_ap(precisions, recalls, method=\"voc11\"):\n",
    "    # Pascal VOC 11-point method\n",
    "    if method == \"voc11\":\n",
    "        recall_points = np.linspace(0, 1, 11)\n",
    "        ap = 0.0\n",
    "        for r in recall_points:\n",
    "            ap += max(precisions[recalls >= r]) if np.any(recalls >= r) else 0\n",
    "        ap /= 11\n",
    "    # COCO 101-point method\n",
    "    elif method == \"coco101\":\n",
    "        recall_points = np.linspace(0, 1, 101)\n",
    "        ap = np.mean([max(precisions[recalls >= r]) if np.any(recalls >= r) else 0 for r in recall_points])\n",
    "    # AUC method\n",
    "    elif method == \"auc_pr\":\n",
    "        ap = auc(recalls, precisions)\n",
    "    else:\n",
    "        raise ValueError(\"Invalid AP computation method.\")\n",
    "    return ap"
   ]
  },
  {
   "cell_type": "markdown",
   "metadata": {},
   "source": [
    "### Comparing AP50s on randomly generated data"
   ]
  },
  {
   "cell_type": "code",
   "execution_count": 11,
   "metadata": {},
   "outputs": [],
   "source": [
    "# generate random data\n",
    "def generate_random_data(num_images, image_size, num_gt_boxes, num_pred_boxes, box_size):\n",
    "    images = []\n",
    "    gt_boxes = []\n",
    "    pred_boxes = []\n",
    "    scores = []\n",
    "\n",
    "    for _ in range(num_images):\n",
    "        image = np.random.rand(image_size, image_size)\n",
    "        images.append(image)\n",
    "\n",
    "        gt_boxes_image = []\n",
    "        for _ in range(num_gt_boxes):\n",
    "            x_min = np.random.randint(0, image_size - box_size)\n",
    "            y_min = np.random.randint(0, image_size - box_size)\n",
    "            x_max = x_min + box_size\n",
    "            y_max = y_min + box_size\n",
    "            gt_boxes_image.append([x_min, y_min, x_max, y_max])\n",
    "        gt_boxes.append(gt_boxes_image)\n",
    "\n",
    "        pred_boxes_image = []\n",
    "        scores_image = []\n",
    "        for _ in range(num_pred_boxes):\n",
    "            x_min = np.random.randint(0, image_size - box_size)\n",
    "            y_min = np.random.randint(0, image_size - box_size)\n",
    "            x_max = x_min + box_size\n",
    "            y_max = y_min + box_size\n",
    "            pred_boxes_image.append([x_min, y_min, x_max, y_max])\n",
    "            scores_image.append(np.random.uniform(0.5, 1.0))\n",
    "        pred_boxes.append(pred_boxes_image)\n",
    "        scores.append(scores_image)\n",
    "\n",
    "    return images, gt_boxes, pred_boxes, scores\n",
    "\n",
    "\n",
    "\n",
    "# calculate precision and recall values\n",
    "def compute_precision_recall(gt_boxes, pred_boxes, scores, image_size, iou_threshold=0.5):\n",
    "    all_tp = []\n",
    "    all_fp = []\n",
    "    num_gt_boxes = sum(len(gt) for gt in gt_boxes)\n",
    "\n",
    "    for gt_boxes_image, pred_boxes_image, scores_image in zip(gt_boxes, pred_boxes, scores):\n",
    "        # Sort predicted boxes by confidence score in descending order\n",
    "        sorted_indices = np.argsort(scores_image)[::-1]\n",
    "        pred_boxes_image = [pred_boxes_image[idx] for idx in sorted_indices]\n",
    "        scores_image = [scores_image[idx] for idx in sorted_indices]\n",
    "\n",
    "        tp = np.zeros(len(pred_boxes_image))\n",
    "        fp = np.zeros(len(pred_boxes_image))\n",
    "        gt_matched = np.zeros(len(gt_boxes_image))\n",
    "\n",
    "        for j, pred_box in enumerate(pred_boxes_image):\n",
    "            ious = [iou_shapely(pred_box, gt_box, image_size) for gt_box in gt_boxes_image]\n",
    "            max_iou = max(ious) if ious else 0\n",
    "            max_iou_idx = np.argmax(ious) if ious else -1\n",
    "\n",
    "            if max_iou >= iou_threshold and max_iou_idx != -1 and gt_matched[max_iou_idx] == 0:\n",
    "                tp[j] = 1\n",
    "                gt_matched[max_iou_idx] = 1\n",
    "            else:\n",
    "                fp[j] = 1\n",
    "\n",
    "        all_tp.extend(tp)\n",
    "        all_fp.extend(fp)\n",
    "\n",
    "    # Compute Precision-Recall\n",
    "    tp_cumsum = np.cumsum(all_tp)\n",
    "    fp_cumsum = np.cumsum(all_fp)\n",
    "    precisions = tp_cumsum / (tp_cumsum + fp_cumsum + 1e-8)  # Avoid division by zero\n",
    "    recalls = tp_cumsum / num_gt_boxes\n",
    "\n",
    "    return precisions, recalls"
   ]
  },
  {
   "cell_type": "code",
   "execution_count": 12,
   "metadata": {},
   "outputs": [],
   "source": [
    "random_num_images = 10\n",
    "random_image_size = 100\n",
    "random_num_gt_boxes = 10\n",
    "random_num_pred_boxes = 10\n",
    "random_box_size = 20\n",
    "random_images, random_gt_boxes, random_pred_boxes, random_scores = generate_random_data(random_num_images, random_image_size, random_num_gt_boxes, random_num_pred_boxes, random_box_size)"
   ]
  },
  {
   "cell_type": "code",
   "execution_count": 13,
   "metadata": {},
   "outputs": [
    {
     "data": {
      "image/png": "[encoded data removed]",
      "text/plain": [
       "<Figure size 800x600 with 1 Axes>"
      ]
     },
     "metadata": {
      "image/png": {
       "height": 546,
       "width": 698
      }
     },
     "output_type": "display_data"
    }
   ],
   "source": [
    "precisions, recalls = compute_precision_recall(random_gt_boxes, random_pred_boxes, random_scores, random_image_size, iou_threshold=0.5)\n",
    "\n",
    "# plot precision-recall curve\n",
    "plt.figure(figsize=(8, 6))\n",
    "plt.plot(recalls, precisions, color='blue', linestyle='-', linewidth=2)\n",
    "plt.xlabel('Recall')\n",
    "plt.ylabel('Precision')\n",
    "plt.title('Precision-Recall Curve')\n",
    "plt.grid(True)\n",
    "plt.show()"
   ]
  },
  {
   "cell_type": "code",
   "execution_count": 14,
   "metadata": {},
   "outputs": [
    {
     "name": "stdout",
     "output_type": "stream",
     "text": [
      "AP50 using VOC11 method: 0.2685\n",
      "AP50 using COCO101 method: 0.2571\n",
      "AP50 using AUC-PR method: 0.2188\n"
     ]
    }
   ],
   "source": [
    "# Compute AP50\n",
    "ap50_voc11 = compute_ap(precisions, recalls, method=\"voc11\")\n",
    "ap50_coco101 = compute_ap(precisions, recalls, method=\"coco101\")\n",
    "ap50_auc_pr = compute_ap(precisions, recalls, method=\"auc_pr\")\n",
    "\n",
    "print(f'AP50 using VOC11 method: {ap50_voc11:.4f}')\n",
    "print(f'AP50 using COCO101 method: {ap50_coco101:.4f}')\n",
    "print(f'AP50 using AUC-PR method: {ap50_auc_pr:.4f}')"
   ]
  },
  {
   "cell_type": "markdown",
   "metadata": {},
   "source": [
    "## Model Building and Evaluation"
   ]
  },
  {
   "cell_type": "markdown",
   "metadata": {},
   "source": [
    "1. Split the data into 80-20 train-test split. Use 10% of training data as validation.\n",
    "2. Use any model from Ultralytics like YOLO to train the object detection model. Show that validation loss is converged.\n",
    "3. Predict solar panels using the trained model. Visualize the ground truth and predicted bounding boxes on 3-4 random samples from the test dataset. Use appropriate color schemes to differentiate between ground truth and predicted labels.\n",
    "4. Use supervision.metrics functionality from supervision library to compute the following metrics.\n",
    "    - Compute mAP50 with supervision and compare with your implementation. What do you observe?\n",
    "    - Create a table of Precision, Recall and F1-scores where rows are IoU thresholds [0.1, 0.3, 0.5, 0.7, 0.9] and columns are confidence thresholds [0.1, 0.3, 0.5, 0.7, 0.9] (Hint: use supervision.metrics.ConfusionMatrix to get the confusion matrix and get TP, FP and FN from it to compute the P, R and F-1).\n"
   ]
  },
  {
   "cell_type": "markdown",
   "metadata": {},
   "source": [
    "### Splitting the Data\n",
    "\n",
    "We will split the data into training and testing sets using an 80-20 split. We will further split the training data into training and validation sets using a 90-10 split. This will allow us to train the model on the training set and tune the hyperparameters on the validation set. The testing set will be used to evaluate the model's performance on unseen data."
   ]
  },
  {
   "cell_type": "code",
   "execution_count": 15,
   "metadata": {},
   "outputs": [],
   "source": [
    "# def split_data(image_dir, label_dir, save_dir=\"split_data\", train_ratio=0.8, val_ratio=0.1):\n",
    "#     os.makedirs(save_dir, exist_ok=True)\n",
    "#     for split in [\"train\", \"val\", \"test\"]:\n",
    "#         os.makedirs(os.path.join(save_dir, split, \"images\"), exist_ok=True)\n",
    "#         os.makedirs(os.path.join(save_dir, split, \"labels\"), exist_ok=True)\n",
    "    \n",
    "#     image_names = sorted([image_name for image_name in os.listdir(image_dir) if image_name.endswith('.tif')])\n",
    "#     label_names = sorted([label_name for label_name in os.listdir(label_dir) if label_name.endswith('.txt')])\n",
    "#     num_images = len(image_names)\n",
    "\n",
    "#     # shuffle the data\n",
    "#     indices = np.arange(num_images)\n",
    "#     np.random.shuffle(indices)\n",
    "\n",
    "#     train_size = int(train_ratio * num_images)\n",
    "#     val_size = int(val_ratio * train_size)\n",
    "#     test_size = num_images - train_size\n",
    "\n",
    "#     train_indices = indices[:train_size]\n",
    "#     val_indices = train_indices[-val_size:]\n",
    "#     train_indices = train_indices[:-val_size]\n",
    "#     test_indices = indices[train_size:]\n",
    "\n",
    "#     def copy_data(indices, split):\n",
    "#         for idx in indices:\n",
    "#             image_src = os.path.join(image_dir, image_names[idx])\n",
    "#             label_src = os.path.join(label_dir, label_names[idx])\n",
    "\n",
    "#             image_dst = os.path.join(save_dir, split, \"images\", image_names[idx])\n",
    "#             label_dst = os.path.join(save_dir, split, \"labels\", label_names[idx])\n",
    "\n",
    "#             shutil.copy(image_src, image_dst)\n",
    "#             shutil.copy(label_src, label_dst)\n",
    "\n",
    "#     copy_data(train_indices, \"train\")\n",
    "#     copy_data(val_indices, \"val\")\n",
    "#     copy_data(test_indices, \"test\")\n",
    "\n",
    "#     print(f\"Data split and saved in '{save_dir}/' successfully!\")\n",
    "#     print(f\"Train:      {len(train_indices)} images\")\n",
    "#     print(f\"Validation: {len(val_indices)} images\")\n",
    "#     print(f\"Test:       {len(test_indices)} images\")\n",
    "\n",
    "\n",
    "\n",
    "# split_data(image_dir, label_dir, save_dir=\"split_data\", train_ratio=0.8, val_ratio=0.1)"
   ]
  },
  {
   "cell_type": "code",
   "execution_count": 16,
   "metadata": {},
   "outputs": [
    {
     "name": "stdout",
     "output_type": "stream",
     "text": [
      "data.yaml created at:\n",
      "c:\\Users\\shard\\Desktop\\SRIP-Project-Task\\split_data\\data.yaml\n"
     ]
    }
   ],
   "source": [
    "# Create YAML content with absolute paths\n",
    "base_path = os.path.abspath('./split_data')\n",
    "yaml_content = f\"\"\"path: {base_path}\n",
    "train: {os.path.join(base_path, 'train', 'images')}\n",
    "val: {os.path.join(base_path, 'val', 'images')}\n",
    "test: {os.path.join(base_path, 'test', 'images')}\n",
    "\n",
    "nc: 3  # number of classes\n",
    "names: [\"class_0\", \"class_1\", \"class_2\"]\n",
    "\"\"\"\n",
    "with open(os.path.join(base_path, 'data.yaml'), 'w') as f:\n",
    "    f.write(yaml_content)\n",
    "print(f\"data.yaml created at:\\n{os.path.join(base_path, 'data.yaml')}\")\n",
    "del base_path"
   ]
  },
  {
   "cell_type": "code",
   "execution_count": 17,
   "metadata": {},
   "outputs": [
    {
     "name": "stdout",
     "output_type": "stream",
     "text": [
      "path: c:\\Users\\shard\\Desktop\\SRIP-Project-Task\\split_data\n",
      "train: c:\\Users\\shard\\Desktop\\SRIP-Project-Task\\split_data\\train\\images\n",
      "val: c:\\Users\\shard\\Desktop\\SRIP-Project-Task\\split_data\\val\\images\n",
      "test: c:\\Users\\shard\\Desktop\\SRIP-Project-Task\\split_data\\test\\images\n",
      "\n",
      "nc: 3  # number of classes\n",
      "names: [\"class_0\", \"class_1\", \"class_2\"]\n",
      "\n"
     ]
    }
   ],
   "source": [
    "print(yaml_content)"
   ]
  },
  {
   "cell_type": "markdown",
   "metadata": {},
   "source": [
    "### Training YOLO12 Model"
   ]
  },
  {
   "cell_type": "code",
   "execution_count": 18,
   "metadata": {},
   "outputs": [
    {
     "name": "stdout",
     "output_type": "stream",
     "text": [
      "\u001b[34m\u001b[1mengine\\trainer: \u001b[0mtask=detect, mode=train, model=yolo12n.pt, data=split_data/data.yaml, epochs=50, time=None, patience=100, batch=16, imgsz=416, save=True, save_period=-1, cache=False, device=cuda, workers=8, project=models, name=solar_panel_detector, exist_ok=False, pretrained=True, optimizer=auto, verbose=True, seed=0, deterministic=True, single_cls=False, rect=False, cos_lr=False, close_mosaic=10, resume=False, amp=True, fraction=1.0, profile=False, freeze=None, multi_scale=False, overlap_mask=True, mask_ratio=4, dropout=0.0, val=True, split=val, save_json=False, save_hybrid=False, conf=None, iou=0.7, max_det=300, half=False, dnn=False, plots=True, source=None, vid_stride=1, stream_buffer=False, visualize=False, augment=False, agnostic_nms=False, classes=None, retina_masks=False, embed=None, show=False, save_frames=False, save_txt=False, save_conf=False, save_crop=False, show_labels=True, show_conf=True, show_boxes=True, line_width=None, format=torchscript, keras=False, optimize=False, int8=False, dynamic=False, simplify=True, opset=None, workspace=None, nms=False, lr0=0.01, lrf=0.01, momentum=0.937, weight_decay=0.0005, warmup_epochs=3.0, warmup_momentum=0.8, warmup_bias_lr=0.1, box=7.5, cls=0.5, dfl=1.5, pose=12.0, kobj=1.0, nbs=64, hsv_h=0.015, hsv_s=0.7, hsv_v=0.4, degrees=0.0, translate=0.1, scale=0.5, shear=0.0, perspective=0.0, flipud=0.0, fliplr=0.5, bgr=0.0, mosaic=1.0, mixup=0.0, copy_paste=0.0, copy_paste_mode=flip, auto_augment=randaugment, erasing=0.4, crop_fraction=1.0, cfg=None, tracker=botsort.yaml, save_dir=models\\solar_panel_detector\n",
      "Overriding model.yaml nc=80 with nc=3\n",
      "\n",
      "                   from  n    params  module                                       arguments                     \n",
      "  0                  -1  1       464  ultralytics.nn.modules.conv.Conv             [3, 16, 3, 2]                 \n",
      "  1                  -1  1      4672  ultralytics.nn.modules.conv.Conv             [16, 32, 3, 2]                \n",
      "  2                  -1  1      6640  ultralytics.nn.modules.block.C3k2            [32, 64, 1, False, 0.25]      \n",
      "  3                  -1  1     36992  ultralytics.nn.modules.conv.Conv             [64, 64, 3, 2]                \n",
      "  4                  -1  1     26080  ultralytics.nn.modules.block.C3k2            [64, 128, 1, False, 0.25]     \n",
      "  5                  -1  1    147712  ultralytics.nn.modules.conv.Conv             [128, 128, 3, 2]              \n",
      "  6                  -1  2    180864  ultralytics.nn.modules.block.A2C2f           [128, 128, 2, True, 4]        \n",
      "  7                  -1  1    295424  ultralytics.nn.modules.conv.Conv             [128, 256, 3, 2]              \n",
      "  8                  -1  2    689408  ultralytics.nn.modules.block.A2C2f           [256, 256, 2, True, 1]        \n",
      "  9                  -1  1         0  torch.nn.modules.upsampling.Upsample         [None, 2, 'nearest']          \n",
      " 10             [-1, 6]  1         0  ultralytics.nn.modules.conv.Concat           [1]                           \n",
      " 11                  -1  1     86912  ultralytics.nn.modules.block.A2C2f           [384, 128, 1, False, -1]      \n",
      " 12                  -1  1         0  torch.nn.modules.upsampling.Upsample         [None, 2, 'nearest']          \n",
      " 13             [-1, 4]  1         0  ultralytics.nn.modules.conv.Concat           [1]                           \n",
      " 14                  -1  1     24000  ultralytics.nn.modules.block.A2C2f           [256, 64, 1, False, -1]       \n",
      " 15                  -1  1     36992  ultralytics.nn.modules.conv.Conv             [64, 64, 3, 2]                \n",
      " 16            [-1, 11]  1         0  ultralytics.nn.modules.conv.Concat           [1]                           \n",
      " 17                  -1  1     74624  ultralytics.nn.modules.block.A2C2f           [192, 128, 1, False, -1]      \n",
      " 18                  -1  1    147712  ultralytics.nn.modules.conv.Conv             [128, 128, 3, 2]              \n",
      " 19             [-1, 8]  1         0  ultralytics.nn.modules.conv.Concat           [1]                           \n",
      " 20                  -1  1    378880  ultralytics.nn.modules.block.C3k2            [384, 256, 1, True]           \n",
      " 21        [14, 17, 20]  1    431257  ultralytics.nn.modules.head.Detect           [3, [64, 128, 256]]           \n",
      "YOLOv12n summary: 272 layers, 2,568,633 parameters, 2,568,617 gradients, 6.5 GFLOPs\n",
      "\n",
      "Transferred 640/691 items from pretrained weights\n",
      "Freezing layer 'model.21.dfl.conv.weight'\n",
      "\u001b[34m\u001b[1mAMP: \u001b[0mrunning Automatic Mixed Precision (AMP) checks...\n",
      "\u001b[34m\u001b[1mAMP: \u001b[0mchecks passed \n"
     ]
    },
    {
     "name": "stderr",
     "output_type": "stream",
     "text": [
      "\u001b[34m\u001b[1mtrain: \u001b[0mScanning C:\\Users\\shard\\Desktop\\SRIP-Project-Task\\split_data\\train\\labels... 1830 images, 0 backgrounds, 0 corrupt: 100%|██████████| 1830/1830 [00:13<00:00, 132.69it/s]\n"
     ]
    },
    {
     "name": "stdout",
     "output_type": "stream",
     "text": [
      "\u001b[34m\u001b[1mtrain: \u001b[0mNew cache created: C:\\Users\\shard\\Desktop\\SRIP-Project-Task\\split_data\\train\\labels.cache\n"
     ]
    },
    {
     "name": "stderr",
     "output_type": "stream",
     "text": [
      "\u001b[34m\u001b[1mval: \u001b[0mScanning C:\\Users\\shard\\Desktop\\SRIP-Project-Task\\split_data\\val\\labels... 203 images, 0 backgrounds, 0 corrupt: 100%|██████████| 203/203 [00:02<00:00, 87.54it/s] "
     ]
    },
    {
     "name": "stdout",
     "output_type": "stream",
     "text": [
      "\u001b[34m\u001b[1mval: \u001b[0mNew cache created: C:\\Users\\shard\\Desktop\\SRIP-Project-Task\\split_data\\val\\labels.cache\n"
     ]
    },
    {
     "name": "stderr",
     "output_type": "stream",
     "text": [
      "\n"
     ]
    },
    {
     "name": "stdout",
     "output_type": "stream",
     "text": [
      "Plotting labels to models\\solar_panel_detector\\labels.jpg... \n",
      "\u001b[34m\u001b[1moptimizer:\u001b[0m 'optimizer=auto' found, ignoring 'lr0=0.01' and 'momentum=0.937' and determining best 'optimizer', 'lr0' and 'momentum' automatically... \n",
      "\u001b[34m\u001b[1moptimizer:\u001b[0m AdamW(lr=0.001429, momentum=0.9) with parameter groups 113 weight(decay=0.0), 120 weight(decay=0.0005), 119 bias(decay=0.0)\n",
      "Image sizes 416 train, 416 val\n",
      "Using 8 dataloader workers\n",
      "Logging results to \u001b[1mmodels\\solar_panel_detector\u001b[0m\n",
      "Starting training for 50 epochs...\n",
      "\n",
      "      Epoch    GPU_mem   box_loss   cls_loss   dfl_loss  Instances       Size\n"
     ]
    },
    {
     "name": "stderr",
     "output_type": "stream",
     "text": [
      "       1/50      1.64G      2.029       2.48      1.352         40        416: 100%|██████████| 115/115 [00:51<00:00,  2.23it/s]\n",
      "                 Class     Images  Instances      Box(P          R      mAP50  mAP50-95): 100%|██████████| 7/7 [00:03<00:00,  1.97it/s]"
     ]
    },
    {
     "name": "stdout",
     "output_type": "stream",
     "text": [
      "                   all        203       2339        0.9      0.201      0.223      0.125\n"
     ]
    },
    {
     "name": "stderr",
     "output_type": "stream",
     "text": [
      "\n"
     ]
    },
    {
     "name": "stdout",
     "output_type": "stream",
     "text": [
      "\n",
      "      Epoch    GPU_mem   box_loss   cls_loss   dfl_loss  Instances       Size\n"
     ]
    },
    {
     "name": "stderr",
     "output_type": "stream",
     "text": [
      "       2/50      1.79G      1.619      1.279      1.178        105        416: 100%|██████████| 115/115 [00:40<00:00,  2.87it/s]\n",
      "                 Class     Images  Instances      Box(P          R      mAP50  mAP50-95): 100%|██████████| 7/7 [00:02<00:00,  2.58it/s]"
     ]
    },
    {
     "name": "stdout",
     "output_type": "stream",
     "text": [
      "                   all        203       2339      0.864      0.192      0.178      0.107\n"
     ]
    },
    {
     "name": "stderr",
     "output_type": "stream",
     "text": [
      "\n"
     ]
    },
    {
     "name": "stdout",
     "output_type": "stream",
     "text": [
      "\n",
      "      Epoch    GPU_mem   box_loss   cls_loss   dfl_loss  Instances       Size\n"
     ]
    },
    {
     "name": "stderr",
     "output_type": "stream",
     "text": [
      "       3/50      1.62G      1.547      1.168      1.153         79        416: 100%|██████████| 115/115 [00:37<00:00,  3.05it/s]\n",
      "                 Class     Images  Instances      Box(P          R      mAP50  mAP50-95): 100%|██████████| 7/7 [00:03<00:00,  1.98it/s]"
     ]
    },
    {
     "name": "stdout",
     "output_type": "stream",
     "text": [
      "                   all        203       2339      0.914      0.231      0.256      0.165\n"
     ]
    },
    {
     "name": "stderr",
     "output_type": "stream",
     "text": [
      "\n"
     ]
    },
    {
     "name": "stdout",
     "output_type": "stream",
     "text": [
      "\n",
      "      Epoch    GPU_mem   box_loss   cls_loss   dfl_loss  Instances       Size\n"
     ]
    },
    {
     "name": "stderr",
     "output_type": "stream",
     "text": [
      "       4/50      1.74G      1.488      1.083      1.128         68        416: 100%|██████████| 115/115 [00:38<00:00,  3.00it/s]\n",
      "                 Class     Images  Instances      Box(P          R      mAP50  mAP50-95): 100%|██████████| 7/7 [00:02<00:00,  2.83it/s]"
     ]
    },
    {
     "name": "stdout",
     "output_type": "stream",
     "text": [
      "                   all        203       2339      0.931      0.233      0.266      0.169\n"
     ]
    },
    {
     "name": "stderr",
     "output_type": "stream",
     "text": [
      "\n"
     ]
    },
    {
     "name": "stdout",
     "output_type": "stream",
     "text": [
      "\n",
      "      Epoch    GPU_mem   box_loss   cls_loss   dfl_loss  Instances       Size\n"
     ]
    },
    {
     "name": "stderr",
     "output_type": "stream",
     "text": [
      "       5/50      2.03G       1.44      1.025      1.115        104        416: 100%|██████████| 115/115 [00:39<00:00,  2.91it/s]\n",
      "                 Class     Images  Instances      Box(P          R      mAP50  mAP50-95): 100%|██████████| 7/7 [00:03<00:00,  1.81it/s]"
     ]
    },
    {
     "name": "stdout",
     "output_type": "stream",
     "text": [
      "                   all        203       2339      0.932      0.241      0.279      0.184\n"
     ]
    },
    {
     "name": "stderr",
     "output_type": "stream",
     "text": [
      "\n"
     ]
    },
    {
     "name": "stdout",
     "output_type": "stream",
     "text": [
      "\n",
      "      Epoch    GPU_mem   box_loss   cls_loss   dfl_loss  Instances       Size\n"
     ]
    },
    {
     "name": "stderr",
     "output_type": "stream",
     "text": [
      "       6/50      1.53G      1.413     0.9941      1.095        208        416:  38%|███▊      | 44/115 [00:17<00:28,  2.48it/s]\n"
     ]
    },
    {
     "ename": "KeyboardInterrupt",
     "evalue": "",
     "output_type": "error",
     "traceback": [
      "\u001b[1;31m---------------------------------------------------------------------------\u001b[0m",
      "\u001b[1;31mKeyboardInterrupt\u001b[0m                         Traceback (most recent call last)",
      "Cell \u001b[1;32mIn[18], line 4\u001b[0m\n\u001b[0;32m      1\u001b[0m \u001b[38;5;66;03m# Use any model from Ultralytics like YOLO to train the object detection model. Show that validation loss is converged. \u001b[39;00m\n\u001b[0;32m      2\u001b[0m model \u001b[38;5;241m=\u001b[39m YOLO(\u001b[38;5;124m\"\u001b[39m\u001b[38;5;124myolo12n.pt\u001b[39m\u001b[38;5;124m\"\u001b[39m)\n\u001b[1;32m----> 4\u001b[0m results \u001b[38;5;241m=\u001b[39m \u001b[43mmodel\u001b[49m\u001b[38;5;241;43m.\u001b[39;49m\u001b[43mtrain\u001b[49m\u001b[43m(\u001b[49m\n\u001b[0;32m      5\u001b[0m \u001b[43m    \u001b[49m\u001b[43mdata\u001b[49m\u001b[38;5;241;43m=\u001b[39;49m\u001b[38;5;124;43m\"\u001b[39;49m\u001b[38;5;124;43msplit_data/data.yaml\u001b[39;49m\u001b[38;5;124;43m\"\u001b[39;49m\u001b[43m,\u001b[49m\n\u001b[0;32m      6\u001b[0m \u001b[43m    \u001b[49m\u001b[43mepochs\u001b[49m\u001b[38;5;241;43m=\u001b[39;49m\u001b[38;5;241;43m50\u001b[39;49m\u001b[43m,\u001b[49m\n\u001b[0;32m      7\u001b[0m \u001b[43m    \u001b[49m\u001b[43mimgsz\u001b[49m\u001b[38;5;241;43m=\u001b[39;49m\u001b[38;5;241;43m416\u001b[39;49m\u001b[43m,\u001b[49m\n\u001b[0;32m      8\u001b[0m \u001b[43m    \u001b[49m\u001b[43mbatch\u001b[49m\u001b[38;5;241;43m=\u001b[39;49m\u001b[38;5;241;43m16\u001b[39;49m\u001b[43m,\u001b[49m\n\u001b[0;32m      9\u001b[0m \u001b[43m    \u001b[49m\u001b[43mdevice\u001b[49m\u001b[38;5;241;43m=\u001b[39;49m\u001b[43mdevice\u001b[49m\u001b[43m,\u001b[49m\n\u001b[0;32m     10\u001b[0m \u001b[43m    \u001b[49m\u001b[43mproject\u001b[49m\u001b[38;5;241;43m=\u001b[39;49m\u001b[38;5;124;43m\"\u001b[39;49m\u001b[38;5;124;43mmodels\u001b[39;49m\u001b[38;5;124;43m\"\u001b[39;49m\u001b[43m,\u001b[49m\n\u001b[0;32m     11\u001b[0m \u001b[43m    \u001b[49m\u001b[43mname\u001b[49m\u001b[38;5;241;43m=\u001b[39;49m\u001b[38;5;124;43m\"\u001b[39;49m\u001b[38;5;124;43msolar_panel_detector\u001b[39;49m\u001b[38;5;124;43m\"\u001b[39;49m\n\u001b[0;32m     12\u001b[0m \u001b[43m)\u001b[49m\n",
      "File \u001b[1;32mc:\\Users\\shard\\Desktop\\SRIP-Project-Task\\.venv\\Lib\\site-packages\\ultralytics\\engine\\model.py:810\u001b[0m, in \u001b[0;36mModel.train\u001b[1;34m(self, trainer, **kwargs)\u001b[0m\n\u001b[0;32m    807\u001b[0m     \u001b[38;5;28mself\u001b[39m\u001b[38;5;241m.\u001b[39mmodel \u001b[38;5;241m=\u001b[39m \u001b[38;5;28mself\u001b[39m\u001b[38;5;241m.\u001b[39mtrainer\u001b[38;5;241m.\u001b[39mmodel\n\u001b[0;32m    809\u001b[0m \u001b[38;5;28mself\u001b[39m\u001b[38;5;241m.\u001b[39mtrainer\u001b[38;5;241m.\u001b[39mhub_session \u001b[38;5;241m=\u001b[39m \u001b[38;5;28mself\u001b[39m\u001b[38;5;241m.\u001b[39msession  \u001b[38;5;66;03m# attach optional HUB session\u001b[39;00m\n\u001b[1;32m--> 810\u001b[0m \u001b[38;5;28;43mself\u001b[39;49m\u001b[38;5;241;43m.\u001b[39;49m\u001b[43mtrainer\u001b[49m\u001b[38;5;241;43m.\u001b[39;49m\u001b[43mtrain\u001b[49m\u001b[43m(\u001b[49m\u001b[43m)\u001b[49m\n\u001b[0;32m    811\u001b[0m \u001b[38;5;66;03m# Update model and cfg after training\u001b[39;00m\n\u001b[0;32m    812\u001b[0m \u001b[38;5;28;01mif\u001b[39;00m RANK \u001b[38;5;129;01min\u001b[39;00m {\u001b[38;5;241m-\u001b[39m\u001b[38;5;241m1\u001b[39m, \u001b[38;5;241m0\u001b[39m}:\n",
      "File \u001b[1;32mc:\\Users\\shard\\Desktop\\SRIP-Project-Task\\.venv\\Lib\\site-packages\\ultralytics\\engine\\trainer.py:208\u001b[0m, in \u001b[0;36mBaseTrainer.train\u001b[1;34m(self)\u001b[0m\n\u001b[0;32m    205\u001b[0m         ddp_cleanup(\u001b[38;5;28mself\u001b[39m, \u001b[38;5;28mstr\u001b[39m(file))\n\u001b[0;32m    207\u001b[0m \u001b[38;5;28;01melse\u001b[39;00m:\n\u001b[1;32m--> 208\u001b[0m     \u001b[38;5;28;43mself\u001b[39;49m\u001b[38;5;241;43m.\u001b[39;49m\u001b[43m_do_train\u001b[49m\u001b[43m(\u001b[49m\u001b[43mworld_size\u001b[49m\u001b[43m)\u001b[49m\n",
      "File \u001b[1;32mc:\\Users\\shard\\Desktop\\SRIP-Project-Task\\.venv\\Lib\\site-packages\\ultralytics\\engine\\trainer.py:389\u001b[0m, in \u001b[0;36mBaseTrainer._do_train\u001b[1;34m(self, world_size)\u001b[0m\n\u001b[0;32m    384\u001b[0m     \u001b[38;5;28mself\u001b[39m\u001b[38;5;241m.\u001b[39mtloss \u001b[38;5;241m=\u001b[39m (\n\u001b[0;32m    385\u001b[0m         (\u001b[38;5;28mself\u001b[39m\u001b[38;5;241m.\u001b[39mtloss \u001b[38;5;241m*\u001b[39m i \u001b[38;5;241m+\u001b[39m \u001b[38;5;28mself\u001b[39m\u001b[38;5;241m.\u001b[39mloss_items) \u001b[38;5;241m/\u001b[39m (i \u001b[38;5;241m+\u001b[39m \u001b[38;5;241m1\u001b[39m) \u001b[38;5;28;01mif\u001b[39;00m \u001b[38;5;28mself\u001b[39m\u001b[38;5;241m.\u001b[39mtloss \u001b[38;5;129;01mis\u001b[39;00m \u001b[38;5;129;01mnot\u001b[39;00m \u001b[38;5;28;01mNone\u001b[39;00m \u001b[38;5;28;01melse\u001b[39;00m \u001b[38;5;28mself\u001b[39m\u001b[38;5;241m.\u001b[39mloss_items\n\u001b[0;32m    386\u001b[0m     )\n\u001b[0;32m    388\u001b[0m \u001b[38;5;66;03m# Backward\u001b[39;00m\n\u001b[1;32m--> 389\u001b[0m \u001b[38;5;28;43mself\u001b[39;49m\u001b[38;5;241;43m.\u001b[39;49m\u001b[43mscaler\u001b[49m\u001b[38;5;241;43m.\u001b[39;49m\u001b[43mscale\u001b[49m\u001b[43m(\u001b[49m\u001b[38;5;28;43mself\u001b[39;49m\u001b[38;5;241;43m.\u001b[39;49m\u001b[43mloss\u001b[49m\u001b[43m)\u001b[49m\u001b[38;5;241;43m.\u001b[39;49m\u001b[43mbackward\u001b[49m\u001b[43m(\u001b[49m\u001b[43m)\u001b[49m\n\u001b[0;32m    391\u001b[0m \u001b[38;5;66;03m# Optimize - https://pytorch.org/docs/master/notes/amp_examples.html\u001b[39;00m\n\u001b[0;32m    392\u001b[0m \u001b[38;5;28;01mif\u001b[39;00m ni \u001b[38;5;241m-\u001b[39m last_opt_step \u001b[38;5;241m>\u001b[39m\u001b[38;5;241m=\u001b[39m \u001b[38;5;28mself\u001b[39m\u001b[38;5;241m.\u001b[39maccumulate:\n",
      "File \u001b[1;32mc:\\Users\\shard\\Desktop\\SRIP-Project-Task\\.venv\\Lib\\site-packages\\torch\\_tensor.py:626\u001b[0m, in \u001b[0;36mTensor.backward\u001b[1;34m(self, gradient, retain_graph, create_graph, inputs)\u001b[0m\n\u001b[0;32m    616\u001b[0m \u001b[38;5;28;01mif\u001b[39;00m has_torch_function_unary(\u001b[38;5;28mself\u001b[39m):\n\u001b[0;32m    617\u001b[0m     \u001b[38;5;28;01mreturn\u001b[39;00m handle_torch_function(\n\u001b[0;32m    618\u001b[0m         Tensor\u001b[38;5;241m.\u001b[39mbackward,\n\u001b[0;32m    619\u001b[0m         (\u001b[38;5;28mself\u001b[39m,),\n\u001b[1;32m   (...)\u001b[0m\n\u001b[0;32m    624\u001b[0m         inputs\u001b[38;5;241m=\u001b[39minputs,\n\u001b[0;32m    625\u001b[0m     )\n\u001b[1;32m--> 626\u001b[0m \u001b[43mtorch\u001b[49m\u001b[38;5;241;43m.\u001b[39;49m\u001b[43mautograd\u001b[49m\u001b[38;5;241;43m.\u001b[39;49m\u001b[43mbackward\u001b[49m\u001b[43m(\u001b[49m\n\u001b[0;32m    627\u001b[0m \u001b[43m    \u001b[49m\u001b[38;5;28;43mself\u001b[39;49m\u001b[43m,\u001b[49m\u001b[43m \u001b[49m\u001b[43mgradient\u001b[49m\u001b[43m,\u001b[49m\u001b[43m \u001b[49m\u001b[43mretain_graph\u001b[49m\u001b[43m,\u001b[49m\u001b[43m \u001b[49m\u001b[43mcreate_graph\u001b[49m\u001b[43m,\u001b[49m\u001b[43m \u001b[49m\u001b[43minputs\u001b[49m\u001b[38;5;241;43m=\u001b[39;49m\u001b[43minputs\u001b[49m\n\u001b[0;32m    628\u001b[0m \u001b[43m\u001b[49m\u001b[43m)\u001b[49m\n",
      "File \u001b[1;32mc:\\Users\\shard\\Desktop\\SRIP-Project-Task\\.venv\\Lib\\site-packages\\torch\\autograd\\__init__.py:347\u001b[0m, in \u001b[0;36mbackward\u001b[1;34m(tensors, grad_tensors, retain_graph, create_graph, grad_variables, inputs)\u001b[0m\n\u001b[0;32m    342\u001b[0m     retain_graph \u001b[38;5;241m=\u001b[39m create_graph\n\u001b[0;32m    344\u001b[0m \u001b[38;5;66;03m# The reason we repeat the same comment below is that\u001b[39;00m\n\u001b[0;32m    345\u001b[0m \u001b[38;5;66;03m# some Python versions print out the first line of a multi-line function\u001b[39;00m\n\u001b[0;32m    346\u001b[0m \u001b[38;5;66;03m# calls in the traceback and some print out the last line\u001b[39;00m\n\u001b[1;32m--> 347\u001b[0m \u001b[43m_engine_run_backward\u001b[49m\u001b[43m(\u001b[49m\n\u001b[0;32m    348\u001b[0m \u001b[43m    \u001b[49m\u001b[43mtensors\u001b[49m\u001b[43m,\u001b[49m\n\u001b[0;32m    349\u001b[0m \u001b[43m    \u001b[49m\u001b[43mgrad_tensors_\u001b[49m\u001b[43m,\u001b[49m\n\u001b[0;32m    350\u001b[0m \u001b[43m    \u001b[49m\u001b[43mretain_graph\u001b[49m\u001b[43m,\u001b[49m\n\u001b[0;32m    351\u001b[0m \u001b[43m    \u001b[49m\u001b[43mcreate_graph\u001b[49m\u001b[43m,\u001b[49m\n\u001b[0;32m    352\u001b[0m \u001b[43m    \u001b[49m\u001b[43minputs\u001b[49m\u001b[43m,\u001b[49m\n\u001b[0;32m    353\u001b[0m \u001b[43m    \u001b[49m\u001b[43mallow_unreachable\u001b[49m\u001b[38;5;241;43m=\u001b[39;49m\u001b[38;5;28;43;01mTrue\u001b[39;49;00m\u001b[43m,\u001b[49m\n\u001b[0;32m    354\u001b[0m \u001b[43m    \u001b[49m\u001b[43maccumulate_grad\u001b[49m\u001b[38;5;241;43m=\u001b[39;49m\u001b[38;5;28;43;01mTrue\u001b[39;49;00m\u001b[43m,\u001b[49m\n\u001b[0;32m    355\u001b[0m \u001b[43m\u001b[49m\u001b[43m)\u001b[49m\n",
      "File \u001b[1;32mc:\\Users\\shard\\Desktop\\SRIP-Project-Task\\.venv\\Lib\\site-packages\\torch\\autograd\\graph.py:823\u001b[0m, in \u001b[0;36m_engine_run_backward\u001b[1;34m(t_outputs, *args, **kwargs)\u001b[0m\n\u001b[0;32m    821\u001b[0m     unregister_hooks \u001b[38;5;241m=\u001b[39m _register_logging_hooks_on_whole_graph(t_outputs)\n\u001b[0;32m    822\u001b[0m \u001b[38;5;28;01mtry\u001b[39;00m:\n\u001b[1;32m--> 823\u001b[0m     \u001b[38;5;28;01mreturn\u001b[39;00m \u001b[43mVariable\u001b[49m\u001b[38;5;241;43m.\u001b[39;49m\u001b[43m_execution_engine\u001b[49m\u001b[38;5;241;43m.\u001b[39;49m\u001b[43mrun_backward\u001b[49m\u001b[43m(\u001b[49m\u001b[43m  \u001b[49m\u001b[38;5;66;43;03m# Calls into the C++ engine to run the backward pass\u001b[39;49;00m\n\u001b[0;32m    824\u001b[0m \u001b[43m        \u001b[49m\u001b[43mt_outputs\u001b[49m\u001b[43m,\u001b[49m\u001b[43m \u001b[49m\u001b[38;5;241;43m*\u001b[39;49m\u001b[43margs\u001b[49m\u001b[43m,\u001b[49m\u001b[43m \u001b[49m\u001b[38;5;241;43m*\u001b[39;49m\u001b[38;5;241;43m*\u001b[39;49m\u001b[43mkwargs\u001b[49m\n\u001b[0;32m    825\u001b[0m \u001b[43m    \u001b[49m\u001b[43m)\u001b[49m  \u001b[38;5;66;03m# Calls into the C++ engine to run the backward pass\u001b[39;00m\n\u001b[0;32m    826\u001b[0m \u001b[38;5;28;01mfinally\u001b[39;00m:\n\u001b[0;32m    827\u001b[0m     \u001b[38;5;28;01mif\u001b[39;00m attach_logging_hooks:\n",
      "\u001b[1;31mKeyboardInterrupt\u001b[0m: "
     ]
    }
   ],
   "source": [
    "# Use any model from Ultralytics like YOLO to train the object detection model. Show that validation loss is converged. \n",
    "model = YOLO(\"yolo12n.pt\")\n",
    "\n",
    "results = model.train(\n",
    "    data=\"split_data/data.yaml\",\n",
    "    epochs=50,\n",
    "    imgsz=416,\n",
    "    batch=32,\n",
    "    device=device,\n",
    "    project=\"models\",\n",
    "    name=\"solar_panel_detector\"\n",
    ")"
   ]
  },
  {
   "cell_type": "code",
   "execution_count": null,
   "metadata": {},
   "outputs": [],
   "source": [
    "results_df = pd.read_csv('models/solar_panel_detector/results.csv')\n",
    "results_df.head()"
   ]
  },
  {
   "cell_type": "code",
   "execution_count": null,
   "metadata": {},
   "outputs": [],
   "source": [
    "\n",
    "# Predict solar panels using the trained model. Visualize the ground truth and predicted bounding boxes on 3-4 random samples from the test dataset. Use appropriate color schemes to differentiate between ground truth and predicted labels. \n",
    "\n",
    "# Use supervision.metrics functionality from supervision library to compute the following metrics.\n",
    "# Compute mAP50 with supervision and compare with your implementation. What do you observe \n",
    "\n",
    "# Create a table of Precision, Recall and F1-scores where rows are IoU thresholds [0.1, 0.3, 0.5, 0.7, 0.9] and columns are confidence thresholds [0.1, 0.3, 0.5, 0.7, 0.9] (Hint use supervision.metrics.ConfusionMatrix to get the confusion matrix and get TP, FP and FN from it to compute the P, R and F-1) \n"
   ]
  },
  {
   "cell_type": "markdown",
   "metadata": {},
   "source": []
  }
 ],
 "metadata": {
  "kernelspec": {
   "display_name": ".venv",
   "language": "python",
   "name": "python3"
  },
  "language_info": {
   "codemirror_mode": {
    "name": "ipython",
    "version": 3
   },
   "file_extension": ".py",
   "mimetype": "text/x-python",
   "name": "python",
   "nbconvert_exporter": "python",
   "pygments_lexer": "ipython3",
   "version": "3.12.9"
  }
 },
 "nbformat": 4,
 "nbformat_minor": 2
}
