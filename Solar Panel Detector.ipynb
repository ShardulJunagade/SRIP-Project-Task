{
 "cells": [
  {
   "cell_type": "markdown",
   "metadata": {},
   "source": [
    "# Building a Solar Panel Detector\n",
    "\n",
    "Author: Shardul Junagade\n",
    "\n",
    "Date: 27 February 2026\n",
    "\n",
    "In this notebook, we will build a solar panel detector that can detect solar panels in aerial images."
   ]
  },
  {
   "cell_type": "markdown",
   "metadata": {},
   "source": [
    "### Importing Libraries"
   ]
  },
  {
   "cell_type": "code",
   "execution_count": 35,
   "metadata": {},
   "outputs": [],
   "source": [
    "import numpy as np\n",
    "import matplotlib.pyplot as plt\n",
    "import os\n",
    "\n",
    "# Retina display\n",
    "%config InlineBackend.figure_format = 'retina'\n",
    "%matplotlib inline"
   ]
  },
  {
   "cell_type": "markdown",
   "metadata": {},
   "source": [
    "## Data Exploration and Understanding\n",
    "\n",
    "We will use the [Solar Panel Object Labels dataset from Figshare](https://figshare.com/articles/dataset/Solar_Panel_Object_Labels/22081091). This dataset contains high-resolution aerial images with labeled solar panels. We will use the 31 cm native resolution images of sizes 416x416 pixels for our analysis.\n",
    "\n",
    "The dataset files follow a specific naming structure: `solarpanels_native_<image_number>__x0_<x_coordinate>_y0_<y_coordinate>_dxdy_<size>`.\n",
    "\n",
    "For example, in the file `solarpanels_native_1__x0_0_y0_6845_dxdy_416.txt`:\n",
    "\n",
    "- `solarpanels_native`: Indicates that the file contains solar panel data in native resolution.\n",
    "- `<image_number>`: The number of the image in the dataset.\n",
    "- `x0_<x_coordinate>`: The x-coordinate of the top-left corner of the image.\n",
    "- `y0_<y_coordinate>`: The y-coordinate of the top-left corner of the image.\n",
    "- `dxdy_<size>`: The size of the image in pixels (both width and height).\n",
    "\n",
    "Each line in the file represents a detected solar panel with the following format: `category x_center y_center width height`, where:\n",
    "\n",
    "- `category`: The category label (0 for solar panels).\n",
    "- `x_center`: The x-coordinate of the center of the bounding box (normalized).\n",
    "- `y_center`: The y-coordinate of the center of the bounding box (normalized).\n",
    "- `width`: The width of the bounding box (normalized).\n",
    "- `height`: The height of the bounding box (normalized).\n"
   ]
  },
  {
   "cell_type": "code",
   "execution_count": 44,
   "metadata": {},
   "outputs": [],
   "source": [
    "image_dir = 'data/images_native/'\n",
    "label_dir = 'data/labels_native/'\n",
    "image_size = 416\n",
    "meters_per_pixel = 0.31  # meters per pixel"
   ]
  },
  {
   "cell_type": "code",
   "execution_count": null,
   "metadata": {},
   "outputs": [
    {
     "name": "stdout",
     "output_type": "stream",
     "text": [
      "Number of images: 2553\n",
      "Number of labels: 2542\n"
     ]
    }
   ],
   "source": [
    "image_names = sorted([image_name for image_name in os.listdir(image_dir) if image_name.endswith('.tif')])\n",
    "label_names = sorted([label_name for label_name in os.listdir(label_dir) if label_name.endswith('.txt')])\n",
    "\n",
    "print('Number of images:', len(image_names))\n",
    "print('Number of labels:', len(label_names))"
   ]
  },
  {
   "cell_type": "markdown",
   "metadata": {},
   "source": [
    "The number of images and the number of labels is not the same. So, we can remove the images that do not have corresponding labels and remove the labels that do not have corresponding images."
   ]
  },
  {
   "cell_type": "code",
   "execution_count": 37,
   "metadata": {},
   "outputs": [
    {
     "name": "stdout",
     "output_type": "stream",
     "text": [
      "Number of images: 2542\n",
      "Number of labels: 2542\n"
     ]
    }
   ],
   "source": [
    "# delete the images that do not have corresponding labels\n",
    "for image_name in image_names:\n",
    "    if image_name.replace('.tif', '.txt') not in label_names:\n",
    "        os.remove(image_dir + image_name)\n",
    "\n",
    "# delete the labels that do not have corresponding images\n",
    "for label_name in label_names:\n",
    "    if label_name.replace('.txt', '.tif') not in image_names:\n",
    "        os.remove(label_dir + label_name)\n",
    "\n",
    "image_names = sorted([image_name for image_name in os.listdir(image_dir) if image_name.endswith('.tif')])\n",
    "label_names = sorted([label_name for label_name in os.listdir(label_dir) if label_name.endswith('.txt')])\n",
    "\n",
    "print('Number of images:', len(image_names))\n",
    "print('Number of labels:', len(label_names))"
   ]
  },
  {
   "cell_type": "markdown",
   "metadata": {},
   "source": [
    "### Dataset Statistics"
   ]
  },
  {
   "cell_type": "code",
   "execution_count": null,
   "metadata": {},
   "outputs": [
    {
     "name": "stdout",
     "output_type": "stream",
     "text": [
      "Total instances: 29625\n",
      "\n",
      "Number of unique classes: 3\n",
      "\n",
      "Class-wise distribution:\n",
      "    Class 0: 29267\n",
      "    Class 1: 130\n",
      "    Class 2: 228\n"
     ]
    }
   ],
   "source": [
    "total_instances = 0\n",
    "class_count = {}\n",
    "\n",
    "for label_name in label_names:\n",
    "    label_path = os.path.join(label_dir, label_name)\n",
    "\n",
    "    with open(label_path, 'r') as f:\n",
    "        lines = f.readlines()\n",
    "        total_instances += len(lines)\n",
    "        for line in lines:\n",
    "            class_name = line.split()[0]\n",
    "            class_count[class_name] = class_count.get(class_name, 0) + 1\n",
    "\n",
    "class_count = dict(sorted(class_count.items()))\n",
    "\n",
    "print('Total instances:', total_instances)\n",
    "print('\\nNumber of unique classes:', len(class_count))\n",
    "print('\\nClass-wise distribution:')\n",
    "for class_name, count in class_count.items():\n",
    "    print(f'    Class {class_name}: {count}')"
   ]
  },
  {
   "cell_type": "code",
   "execution_count": null,
   "metadata": {},
   "outputs": [
    {
     "name": "stdout",
     "output_type": "stream",
     "text": [
      "Value counts of labels per image:\n",
      "81 images have 1 labels.\n",
      "167 images have 2 labels.\n",
      "221 images have 3 labels.\n",
      "218 images have 4 labels.\n",
      "217 images have 5 labels.\n",
      "189 images have 6 labels.\n",
      "170 images have 7 labels.\n",
      "184 images have 8 labels.\n",
      "169 images have 9 labels.\n",
      "121 images have 10 labels.\n",
      "97 images have 11 labels.\n",
      "84 images have 12 labels.\n",
      "69 images have 13 labels.\n",
      "49 images have 14 labels.\n",
      "46 images have 15 labels.\n",
      "41 images have 16 labels.\n",
      "36 images have 17 labels.\n",
      "25 images have 18 labels.\n",
      "29 images have 19 labels.\n",
      "14 images have 20 labels.\n",
      "4 images have 21 labels.\n",
      "1 images have 22 labels.\n",
      "4 images have 23 labels.\n",
      "2 images have 24 labels.\n",
      "4 images have 25 labels.\n",
      "3 images have 26 labels.\n",
      "5 images have 27 labels.\n",
      "5 images have 28 labels.\n",
      "15 images have 29 labels.\n",
      "20 images have 30 labels.\n",
      "8 images have 31 labels.\n",
      "7 images have 32 labels.\n",
      "13 images have 33 labels.\n",
      "19 images have 34 labels.\n",
      "10 images have 35 labels.\n",
      "6 images have 36 labels.\n",
      "17 images have 37 labels.\n",
      "13 images have 38 labels.\n",
      "6 images have 39 labels.\n",
      "9 images have 40 labels.\n",
      "10 images have 41 labels.\n",
      "12 images have 42 labels.\n",
      "11 images have 43 labels.\n",
      "4 images have 44 labels.\n",
      "2 images have 45 labels.\n",
      "5 images have 46 labels.\n",
      "9 images have 47 labels.\n",
      "3 images have 48 labels.\n",
      "5 images have 49 labels.\n",
      "6 images have 50 labels.\n",
      "9 images have 51 labels.\n",
      "16 images have 52 labels.\n",
      "4 images have 53 labels.\n",
      "6 images have 54 labels.\n",
      "1 images have 55 labels.\n",
      "1 images have 56 labels.\n",
      "3 images have 58 labels.\n",
      "2 images have 59 labels.\n",
      "2 images have 60 labels.\n",
      "1 images have 61 labels.\n",
      "6 images have 62 labels.\n",
      "3 images have 63 labels.\n",
      "1 images have 64 labels.\n",
      "3 images have 65 labels.\n",
      "4 images have 66 labels.\n",
      "1 images have 67 labels.\n",
      "1 images have 71 labels.\n",
      "1 images have 72 labels.\n",
      "1 images have 73 labels.\n",
      "5 images have 74 labels.\n",
      "1 images have 75 labels.\n",
      "2 images have 76 labels.\n",
      "2 images have 77 labels.\n",
      "1 images have 78 labels.\n"
     ]
    }
   ],
   "source": [
    "# Calculate number of images having a particular number of labels\n",
    "label_distribution = {}\n",
    "for label_name in label_names:\n",
    "    label_path = os.path.join(label_dir, label_name)\n",
    "    with open(label_path, 'r') as f:\n",
    "        lines = f.readlines()\n",
    "        num_labels = len(lines)\n",
    "        label_distribution[num_labels] = label_distribution.get(num_labels, 0) + 1\n",
    "\n",
    "label_distribution = dict(sorted(label_distribution.items()))\n",
    "print('Value counts of labels per image:')\n",
    "for num_labels, count in label_distribution.items():\n",
    "    print(f'{count} images have {num_labels} labels.')"
   ]
  },
  {
   "cell_type": "markdown",
   "metadata": {},
   "source": [
    "### Area of Solar Panels\n",
    "\n",
    "We can calculate the area of the solar panels (in square meters) as follows:\n",
    "\n",
    "1. **Denormalize x-width and y-width:**\n",
    "    - Multiply by the chip size:\n",
    "      - Native resolution (31 cm): $416 \\times 416$\n",
    "      - HD resolution (15.5 cm): $832 \\times 832$\n",
    "\n",
    "2. **Convert to real-world meters:**\n",
    "    - Pixel size = 0.31 meters per pixel\n",
    "    - Real width & height in meters:\n",
    "      $$\n",
    "      \\text{real\\_width} = x\\_width \\times 416 \\times 0.31\n",
    "      $$\n",
    "      $$\n",
    "      \\text{real\\_height} = y\\_width \\times 416 \\times 0.31\n",
    "      $$\n",
    "\n",
    "3. **Compute area:**\n",
    "    $$\n",
    "    \\text{area} = \\text{real\\_width} \\times \\text{real\\_height}\n",
    "    $$\n",
    "\n"
   ]
  },
  {
   "cell_type": "code",
   "execution_count": null,
   "metadata": {},
   "outputs": [
    {
     "name": "stdout",
     "output_type": "stream",
     "text": [
      "Mean area of solar panels: 191.52 m^2\n",
      "Standard deviation of area of solar panels: 630.70 m^2\n"
     ]
    },
    {
     "data": {
      "image/png": "[encoded data removed]",
      "text/plain": [
       "<Figure size 800x600 with 1 Axes>"
      ]
     },
     "metadata": {
      "image/png": {
       "height": 546,
       "width": 713
      }
     },
     "output_type": "display_data"
    }
   ],
   "source": [
    "areas = []\n",
    "for label_name in label_names:\n",
    "    label_path = os.path.join(label_dir, label_name)\n",
    "    with open(label_path, 'r') as f:\n",
    "        lines = f.readlines()\n",
    "        for line in lines:\n",
    "            class_name, x_center, y_center, width, height = map(float, line.split())\n",
    "            # print(class_name, x_center, y_center, width, height)\n",
    "            real_width = width * image_size * meters_per_pixel\n",
    "            real_height = height * image_size * meters_per_pixel\n",
    "            area = real_width * real_height\n",
    "            areas.append(area)\n",
    "\n",
    "areas = np.array(areas)\n",
    "mean_area = np.mean(areas)\n",
    "std_area = np.std(areas)\n",
    "print(f'Mean area of solar panels: {mean_area:.2f} m^2')\n",
    "print(f'Standard deviation of area of solar panels: {std_area:.2f} m^2')\n",
    "\n",
    "plt.figure(figsize=(8, 6))\n",
    "plt.hist(areas, bins=50, color='blue', edgecolor='black', alpha=0.7)\n",
    "plt.xlabel('Area (m^2)')\n",
    "plt.ylabel('Frequency')\n",
    "plt.title('Histogram of areas of solar panels')\n",
    "plt.grid(axis='y', alpha=0.75)\n",
    "plt.show()"
   ]
  },
  {
   "cell_type": "markdown",
   "metadata": {},
   "source": [
    "From the above histogram, we can observe the following:\n",
    "\n",
    "- The majority of the solar panels have areas concentrated around the lower end of the scale.\n",
    "- There are fewer instances of solar panels with larger areas.\n",
    "- The distribution appears to be right-skewed, indicating that most solar panels are relatively small in size, with a few larger ones."
   ]
  },
  {
   "cell_type": "code",
   "execution_count": null,
   "metadata": {},
   "outputs": [],
   "source": []
  },
  {
   "cell_type": "code",
   "execution_count": null,
   "metadata": {},
   "outputs": [],
   "source": []
  },
  {
   "cell_type": "markdown",
   "metadata": {},
   "source": []
  }
 ],
 "metadata": {
  "kernelspec": {
   "display_name": ".venv",
   "language": "python",
   "name": "python3"
  },
  "language_info": {
   "codemirror_mode": {
    "name": "ipython",
    "version": 3
   },
   "file_extension": ".py",
   "mimetype": "text/x-python",
   "name": "python",
   "nbconvert_exporter": "python",
   "pygments_lexer": "ipython3",
   "version": "3.12.9"
  }
 },
 "nbformat": 4,
 "nbformat_minor": 2
}
